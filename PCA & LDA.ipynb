{
 "cells": [
  {
   "cell_type": "code",
   "execution_count": 47,
   "id": "017ef406",
   "metadata": {},
   "outputs": [],
   "source": [
    "import pandas as pd\n",
    "import numpy as np \n",
    "import matplotlib.pyplot as plt\n",
    "import seaborn as sns\n",
    "import warnings \n",
    "warnings.filterwarnings('ignore')\n",
    "from sklearn.preprocessing import StandardScaler\n",
    "from sklearn.cluster import KMeans\n",
    "from yellowbrick.cluster import KElbowVisualizer, SilhouetteVisualizer\n",
    "from sklearn.metrics import silhouette_score\n",
    "from sklearn.cluster import AgglomerativeClustering\n",
    "from scipy.cluster.hierarchy import linkage,cophenet,dendrogram\n",
    "from sklearn.metrics.pairwise import euclidean_distances\n",
    "np.set_printoptions(suppress = True) # to avoid the number in exponenet form"
   ]
  },
  {
   "cell_type": "code",
   "execution_count": 48,
   "id": "a0c26836",
   "metadata": {},
   "outputs": [],
   "source": [
    "data = pd.read_excel('pca data.xlsx')"
   ]
  },
  {
   "cell_type": "code",
   "execution_count": 49,
   "id": "41ead557",
   "metadata": {},
   "outputs": [
    {
     "data": {
      "text/html": [
       "<div>\n",
       "<style scoped>\n",
       "    .dataframe tbody tr th:only-of-type {\n",
       "        vertical-align: middle;\n",
       "    }\n",
       "\n",
       "    .dataframe tbody tr th {\n",
       "        vertical-align: top;\n",
       "    }\n",
       "\n",
       "    .dataframe thead th {\n",
       "        text-align: right;\n",
       "    }\n",
       "</style>\n",
       "<table border=\"1\" class=\"dataframe\">\n",
       "  <thead>\n",
       "    <tr style=\"text-align: right;\">\n",
       "      <th></th>\n",
       "      <th>AccelSec</th>\n",
       "      <th>TopSpeed_KmH</th>\n",
       "      <th>Range_Km</th>\n",
       "    </tr>\n",
       "  </thead>\n",
       "  <tbody>\n",
       "    <tr>\n",
       "      <th>0</th>\n",
       "      <td>4.6</td>\n",
       "      <td>233</td>\n",
       "      <td>450</td>\n",
       "    </tr>\n",
       "    <tr>\n",
       "      <th>1</th>\n",
       "      <td>10.0</td>\n",
       "      <td>160</td>\n",
       "      <td>270</td>\n",
       "    </tr>\n",
       "    <tr>\n",
       "      <th>2</th>\n",
       "      <td>4.7</td>\n",
       "      <td>210</td>\n",
       "      <td>400</td>\n",
       "    </tr>\n",
       "    <tr>\n",
       "      <th>3</th>\n",
       "      <td>6.8</td>\n",
       "      <td>180</td>\n",
       "      <td>360</td>\n",
       "    </tr>\n",
       "    <tr>\n",
       "      <th>4</th>\n",
       "      <td>9.5</td>\n",
       "      <td>145</td>\n",
       "      <td>170</td>\n",
       "    </tr>\n",
       "    <tr>\n",
       "      <th>5</th>\n",
       "      <td>2.8</td>\n",
       "      <td>250</td>\n",
       "      <td>610</td>\n",
       "    </tr>\n",
       "    <tr>\n",
       "      <th>6</th>\n",
       "      <td>9.6</td>\n",
       "      <td>150</td>\n",
       "      <td>190</td>\n",
       "    </tr>\n",
       "    <tr>\n",
       "      <th>7</th>\n",
       "      <td>8.1</td>\n",
       "      <td>150</td>\n",
       "      <td>275</td>\n",
       "    </tr>\n",
       "    <tr>\n",
       "      <th>8</th>\n",
       "      <td>5.6</td>\n",
       "      <td>225</td>\n",
       "      <td>310</td>\n",
       "    </tr>\n",
       "    <tr>\n",
       "      <th>9</th>\n",
       "      <td>6.3</td>\n",
       "      <td>180</td>\n",
       "      <td>400</td>\n",
       "    </tr>\n",
       "    <tr>\n",
       "      <th>10</th>\n",
       "      <td>5.1</td>\n",
       "      <td>180</td>\n",
       "      <td>370</td>\n",
       "    </tr>\n",
       "    <tr>\n",
       "      <th>11</th>\n",
       "      <td>7.9</td>\n",
       "      <td>144</td>\n",
       "      <td>220</td>\n",
       "    </tr>\n",
       "    <tr>\n",
       "      <th>12</th>\n",
       "      <td>7.9</td>\n",
       "      <td>167</td>\n",
       "      <td>400</td>\n",
       "    </tr>\n",
       "    <tr>\n",
       "      <th>13</th>\n",
       "      <td>4.0</td>\n",
       "      <td>200</td>\n",
       "      <td>450</td>\n",
       "    </tr>\n",
       "    <tr>\n",
       "      <th>14</th>\n",
       "      <td>9.7</td>\n",
       "      <td>165</td>\n",
       "      <td>250</td>\n",
       "    </tr>\n",
       "  </tbody>\n",
       "</table>\n",
       "</div>"
      ],
      "text/plain": [
       "    AccelSec  TopSpeed_KmH  Range_Km\n",
       "0        4.6           233       450\n",
       "1       10.0           160       270\n",
       "2        4.7           210       400\n",
       "3        6.8           180       360\n",
       "4        9.5           145       170\n",
       "5        2.8           250       610\n",
       "6        9.6           150       190\n",
       "7        8.1           150       275\n",
       "8        5.6           225       310\n",
       "9        6.3           180       400\n",
       "10       5.1           180       370\n",
       "11       7.9           144       220\n",
       "12       7.9           167       400\n",
       "13       4.0           200       450\n",
       "14       9.7           165       250"
      ]
     },
     "execution_count": 49,
     "metadata": {},
     "output_type": "execute_result"
    }
   ],
   "source": [
    "data"
   ]
  },
  {
   "cell_type": "markdown",
   "id": "8cd21ca8",
   "metadata": {},
   "source": [
    "## Step1 : Standardize"
   ]
  },
  {
   "cell_type": "code",
   "execution_count": 50,
   "id": "216ab2f6",
   "metadata": {},
   "outputs": [
    {
     "data": {
      "text/html": [
       "<div>\n",
       "<style scoped>\n",
       "    .dataframe tbody tr th:only-of-type {\n",
       "        vertical-align: middle;\n",
       "    }\n",
       "\n",
       "    .dataframe tbody tr th {\n",
       "        vertical-align: top;\n",
       "    }\n",
       "\n",
       "    .dataframe thead th {\n",
       "        text-align: right;\n",
       "    }\n",
       "</style>\n",
       "<table border=\"1\" class=\"dataframe\">\n",
       "  <thead>\n",
       "    <tr style=\"text-align: right;\">\n",
       "      <th></th>\n",
       "      <th>AccelSec</th>\n",
       "      <th>TopSpeed_KmH</th>\n",
       "      <th>Range_Km</th>\n",
       "    </tr>\n",
       "  </thead>\n",
       "  <tbody>\n",
       "    <tr>\n",
       "      <th>0</th>\n",
       "      <td>-0.998198</td>\n",
       "      <td>1.540888</td>\n",
       "      <td>0.954850</td>\n",
       "    </tr>\n",
       "    <tr>\n",
       "      <th>1</th>\n",
       "      <td>1.408172</td>\n",
       "      <td>-0.690954</td>\n",
       "      <td>-0.631670</td>\n",
       "    </tr>\n",
       "    <tr>\n",
       "      <th>2</th>\n",
       "      <td>-0.953636</td>\n",
       "      <td>0.837705</td>\n",
       "      <td>0.514150</td>\n",
       "    </tr>\n",
       "    <tr>\n",
       "      <th>3</th>\n",
       "      <td>-0.017825</td>\n",
       "      <td>-0.079490</td>\n",
       "      <td>0.161590</td>\n",
       "    </tr>\n",
       "    <tr>\n",
       "      <th>4</th>\n",
       "      <td>1.185360</td>\n",
       "      <td>-1.149551</td>\n",
       "      <td>-1.513071</td>\n",
       "    </tr>\n",
       "    <tr>\n",
       "      <th>5</th>\n",
       "      <td>-1.800321</td>\n",
       "      <td>2.060632</td>\n",
       "      <td>2.365091</td>\n",
       "    </tr>\n",
       "    <tr>\n",
       "      <th>6</th>\n",
       "      <td>1.229922</td>\n",
       "      <td>-0.996686</td>\n",
       "      <td>-1.336791</td>\n",
       "    </tr>\n",
       "    <tr>\n",
       "      <th>7</th>\n",
       "      <td>0.561486</td>\n",
       "      <td>-0.996686</td>\n",
       "      <td>-0.587600</td>\n",
       "    </tr>\n",
       "    <tr>\n",
       "      <th>8</th>\n",
       "      <td>-0.552574</td>\n",
       "      <td>1.296303</td>\n",
       "      <td>-0.279110</td>\n",
       "    </tr>\n",
       "    <tr>\n",
       "      <th>9</th>\n",
       "      <td>-0.240637</td>\n",
       "      <td>-0.079490</td>\n",
       "      <td>0.514150</td>\n",
       "    </tr>\n",
       "    <tr>\n",
       "      <th>10</th>\n",
       "      <td>-0.775386</td>\n",
       "      <td>-0.079490</td>\n",
       "      <td>0.249730</td>\n",
       "    </tr>\n",
       "    <tr>\n",
       "      <th>11</th>\n",
       "      <td>0.472362</td>\n",
       "      <td>-1.180125</td>\n",
       "      <td>-1.072370</td>\n",
       "    </tr>\n",
       "    <tr>\n",
       "      <th>12</th>\n",
       "      <td>0.472362</td>\n",
       "      <td>-0.476942</td>\n",
       "      <td>0.514150</td>\n",
       "    </tr>\n",
       "    <tr>\n",
       "      <th>13</th>\n",
       "      <td>-1.265572</td>\n",
       "      <td>0.531973</td>\n",
       "      <td>0.954850</td>\n",
       "    </tr>\n",
       "    <tr>\n",
       "      <th>14</th>\n",
       "      <td>1.274485</td>\n",
       "      <td>-0.538088</td>\n",
       "      <td>-0.807950</td>\n",
       "    </tr>\n",
       "  </tbody>\n",
       "</table>\n",
       "</div>"
      ],
      "text/plain": [
       "    AccelSec  TopSpeed_KmH  Range_Km\n",
       "0  -0.998198      1.540888  0.954850\n",
       "1   1.408172     -0.690954 -0.631670\n",
       "2  -0.953636      0.837705  0.514150\n",
       "3  -0.017825     -0.079490  0.161590\n",
       "4   1.185360     -1.149551 -1.513071\n",
       "5  -1.800321      2.060632  2.365091\n",
       "6   1.229922     -0.996686 -1.336791\n",
       "7   0.561486     -0.996686 -0.587600\n",
       "8  -0.552574      1.296303 -0.279110\n",
       "9  -0.240637     -0.079490  0.514150\n",
       "10 -0.775386     -0.079490  0.249730\n",
       "11  0.472362     -1.180125 -1.072370\n",
       "12  0.472362     -0.476942  0.514150\n",
       "13 -1.265572      0.531973  0.954850\n",
       "14  1.274485     -0.538088 -0.807950"
      ]
     },
     "execution_count": 50,
     "metadata": {},
     "output_type": "execute_result"
    }
   ],
   "source": [
    "sc = StandardScaler()\n",
    "data_s = sc.fit_transform(data)\n",
    "data_s = pd.DataFrame(data_s,columns=data.columns)\n",
    "data_s"
   ]
  },
  {
   "cell_type": "markdown",
   "id": "364d28ae",
   "metadata": {},
   "source": [
    "## Step2 : Covariance matrix"
   ]
  },
  {
   "cell_type": "code",
   "execution_count": 51,
   "id": "dadce4b2",
   "metadata": {},
   "outputs": [
    {
     "data": {
      "text/plain": [
       "(3, 3)"
      ]
     },
     "execution_count": 51,
     "metadata": {},
     "output_type": "execute_result"
    }
   ],
   "source": [
    "cov_mat = np.cov(data_s.T)\n",
    "cov_mat.shape"
   ]
  },
  {
   "cell_type": "markdown",
   "id": "f0317f9d",
   "metadata": {},
   "source": [
    "## Step3: eigen values and eigen vectors of cov. matrix"
   ]
  },
  {
   "cell_type": "code",
   "execution_count": 52,
   "id": "4794bf30",
   "metadata": {},
   "outputs": [],
   "source": [
    "eig_val , eig_vec = np.linalg.eig(cov_mat)\n"
   ]
  },
  {
   "cell_type": "code",
   "execution_count": 53,
   "id": "8784e512",
   "metadata": {},
   "outputs": [
    {
     "data": {
      "text/plain": [
       "array([2.89857911, 0.1295811 , 0.18612551])"
      ]
     },
     "execution_count": 53,
     "metadata": {},
     "output_type": "execute_result"
    }
   ],
   "source": [
    "eig_val"
   ]
  },
  {
   "cell_type": "code",
   "execution_count": 54,
   "id": "1b4ba9f2",
   "metadata": {},
   "outputs": [
    {
     "data": {
      "text/plain": [
       "array([[ 0.58317464, -0.81091338, -0.04823714],\n",
       "       [-0.57378162, -0.36915023, -0.73109696],\n",
       "       [-0.57504956, -0.45403479,  0.68056625]])"
      ]
     },
     "execution_count": 54,
     "metadata": {},
     "output_type": "execute_result"
    }
   ],
   "source": [
    "eig_vec"
   ]
  },
  {
   "cell_type": "code",
   "execution_count": 55,
   "id": "d517121c",
   "metadata": {},
   "outputs": [
    {
     "data": {
      "text/plain": [
       "array([[-0.58317464,  0.04823714,  0.81091338],\n",
       "       [ 0.57378162,  0.73109696,  0.36915023],\n",
       "       [ 0.57504956, -0.68056625,  0.45403479]])"
      ]
     },
     "execution_count": 55,
     "metadata": {},
     "output_type": "execute_result"
    }
   ],
   "source": [
    "pca.components_.T"
   ]
  },
  {
   "cell_type": "code",
   "execution_count": null,
   "id": "3975c71e",
   "metadata": {},
   "outputs": [],
   "source": []
  },
  {
   "cell_type": "markdown",
   "id": "d2cab693",
   "metadata": {},
   "source": [
    "## Step4 : sort the eigen values in Desc order"
   ]
  },
  {
   "cell_type": "code",
   "execution_count": 56,
   "id": "62fcf806",
   "metadata": {},
   "outputs": [],
   "source": [
    "eig_val1 = eig_val[0]\n",
    "eig_val2 = eig_val[2]\n",
    "eig_val3 = eig_val[1]\n"
   ]
  },
  {
   "cell_type": "code",
   "execution_count": 57,
   "id": "7af47e66",
   "metadata": {},
   "outputs": [],
   "source": [
    "eig_vec1 = eig_vec[:,0]\n",
    "eig_vec2 = eig_vec[:,2]\n",
    "eig_vec3 = eig_vec[:,1]\n"
   ]
  },
  {
   "cell_type": "markdown",
   "id": "9f02a311",
   "metadata": {},
   "source": [
    "## Step5 : Find out PCs"
   ]
  },
  {
   "cell_type": "code",
   "execution_count": 58,
   "id": "861321af",
   "metadata": {},
   "outputs": [],
   "source": [
    "pcs_data = pd.DataFrame(columns = ['PC1','PC2','PC3'])"
   ]
  },
  {
   "cell_type": "code",
   "execution_count": 59,
   "id": "78dd1932",
   "metadata": {},
   "outputs": [],
   "source": [
    "pcs_data['PC1'] = data_s.dot(eig_vec1)\n",
    "pcs_data['PC2'] = data_s.dot(eig_vec2)\n",
    "pcs_data['PC3'] = data_s.dot(eig_vec3)"
   ]
  },
  {
   "cell_type": "code",
   "execution_count": 60,
   "id": "7efc7343",
   "metadata": {},
   "outputs": [
    {
     "data": {
      "text/html": [
       "<div>\n",
       "<style scoped>\n",
       "    .dataframe tbody tr th:only-of-type {\n",
       "        vertical-align: middle;\n",
       "    }\n",
       "\n",
       "    .dataframe tbody tr th {\n",
       "        vertical-align: top;\n",
       "    }\n",
       "\n",
       "    .dataframe thead th {\n",
       "        text-align: right;\n",
       "    }\n",
       "</style>\n",
       "<table border=\"1\" class=\"dataframe\">\n",
       "  <thead>\n",
       "    <tr style=\"text-align: right;\">\n",
       "      <th></th>\n",
       "      <th>PC1</th>\n",
       "      <th>PC2</th>\n",
       "      <th>PC3</th>\n",
       "    </tr>\n",
       "  </thead>\n",
       "  <tbody>\n",
       "    <tr>\n",
       "      <th>PC1</th>\n",
       "      <td>1.000000e+00</td>\n",
       "      <td>3.616858e-16</td>\n",
       "      <td>6.469769e-17</td>\n",
       "    </tr>\n",
       "    <tr>\n",
       "      <th>PC2</th>\n",
       "      <td>3.616858e-16</td>\n",
       "      <td>1.000000e+00</td>\n",
       "      <td>6.319077e-16</td>\n",
       "    </tr>\n",
       "    <tr>\n",
       "      <th>PC3</th>\n",
       "      <td>6.469769e-17</td>\n",
       "      <td>6.319077e-16</td>\n",
       "      <td>1.000000e+00</td>\n",
       "    </tr>\n",
       "  </tbody>\n",
       "</table>\n",
       "</div>"
      ],
      "text/plain": [
       "              PC1           PC2           PC3\n",
       "PC1  1.000000e+00  3.616858e-16  6.469769e-17\n",
       "PC2  3.616858e-16  1.000000e+00  6.319077e-16\n",
       "PC3  6.469769e-17  6.319077e-16  1.000000e+00"
      ]
     },
     "execution_count": 60,
     "metadata": {},
     "output_type": "execute_result"
    }
   ],
   "source": [
    "pcs_data.corr()"
   ]
  },
  {
   "cell_type": "markdown",
   "id": "46a2011c",
   "metadata": {},
   "source": [
    "## Step6 : Find the explained Variance of all PCs"
   ]
  },
  {
   "cell_type": "code",
   "execution_count": 61,
   "id": "412419ca",
   "metadata": {},
   "outputs": [],
   "source": [
    "evr_val1 = (eig_val1/(eig_val1+eig_val2+eig_val3))*100"
   ]
  },
  {
   "cell_type": "code",
   "execution_count": 62,
   "id": "2c3507f7",
   "metadata": {},
   "outputs": [],
   "source": [
    "evr_val2 = (eig_val2/np.sum(eig_val))*100"
   ]
  },
  {
   "cell_type": "code",
   "execution_count": 63,
   "id": "b0e94c35",
   "metadata": {},
   "outputs": [],
   "source": [
    "evr_val3 = (eig_val3/np.sum(eig_val))*100"
   ]
  },
  {
   "cell_type": "code",
   "execution_count": 64,
   "id": "468be5c8",
   "metadata": {},
   "outputs": [
    {
     "name": "stdout",
     "output_type": "stream",
     "text": [
      "evr_val1 90.17801672776879 \n",
      " evr_val2 5.790571365427058 \n",
      " evr_val3 4.031411906804149\n"
     ]
    }
   ],
   "source": [
    "print('evr_val1',evr_val1,'\\n','evr_val2',evr_val2,'\\n','evr_val3',evr_val3)"
   ]
  },
  {
   "cell_type": "code",
   "execution_count": null,
   "id": "28bdd636",
   "metadata": {},
   "outputs": [],
   "source": []
  },
  {
   "cell_type": "code",
   "execution_count": 65,
   "id": "64d1d040",
   "metadata": {},
   "outputs": [
    {
     "data": {
      "text/plain": [
       "100.0"
      ]
     },
     "execution_count": 65,
     "metadata": {},
     "output_type": "execute_result"
    }
   ],
   "source": [
    "evr_val1+evr_val2+evr_val3"
   ]
  },
  {
   "cell_type": "code",
   "execution_count": 66,
   "id": "03b83b1e",
   "metadata": {},
   "outputs": [
    {
     "data": {
      "text/plain": [
       "<Axes: xlabel='PC1', ylabel='PC2'>"
      ]
     },
     "execution_count": 66,
     "metadata": {},
     "output_type": "execute_result"
    },
    {
     "data": {
      "image/png": "[encoded data removed]",
      "text/plain": [
       "<Figure size 800x550 with 1 Axes>"
      ]
     },
     "metadata": {},
     "output_type": "display_data"
    }
   ],
   "source": [
    "sns.scatterplot(x=pcs_data['PC1'],y=pcs_data['PC2'])"
   ]
  },
  {
   "cell_type": "markdown",
   "id": "5249d4dc",
   "metadata": {},
   "source": [
    "## Now lets use PCA function from Sklearn"
   ]
  },
  {
   "cell_type": "code",
   "execution_count": 67,
   "id": "5b0e1fd3",
   "metadata": {},
   "outputs": [],
   "source": [
    "from sklearn.decomposition import PCA"
   ]
  },
  {
   "cell_type": "code",
   "execution_count": 68,
   "id": "722705eb",
   "metadata": {},
   "outputs": [
    {
     "data": {
      "text/html": [
       "<div>\n",
       "<style scoped>\n",
       "    .dataframe tbody tr th:only-of-type {\n",
       "        vertical-align: middle;\n",
       "    }\n",
       "\n",
       "    .dataframe tbody tr th {\n",
       "        vertical-align: top;\n",
       "    }\n",
       "\n",
       "    .dataframe thead th {\n",
       "        text-align: right;\n",
       "    }\n",
       "</style>\n",
       "<table border=\"1\" class=\"dataframe\">\n",
       "  <thead>\n",
       "    <tr style=\"text-align: right;\">\n",
       "      <th></th>\n",
       "      <th>PC1</th>\n",
       "      <th>PC2</th>\n",
       "      <th>PC3</th>\n",
       "    </tr>\n",
       "  </thead>\n",
       "  <tbody>\n",
       "    <tr>\n",
       "      <th>0</th>\n",
       "      <td>2.015343</td>\n",
       "      <td>0.428549</td>\n",
       "      <td>0.192902</td>\n",
       "    </tr>\n",
       "    <tr>\n",
       "      <th>1</th>\n",
       "      <td>-1.580909</td>\n",
       "      <td>-0.007335</td>\n",
       "      <td>0.600040</td>\n",
       "    </tr>\n",
       "    <tr>\n",
       "      <th>2</th>\n",
       "      <td>1.332458</td>\n",
       "      <td>0.216530</td>\n",
       "      <td>-0.230635</td>\n",
       "    </tr>\n",
       "    <tr>\n",
       "      <th>3</th>\n",
       "      <td>0.057707</td>\n",
       "      <td>-0.168948</td>\n",
       "      <td>0.029569</td>\n",
       "    </tr>\n",
       "    <tr>\n",
       "      <th>4</th>\n",
       "      <td>-2.220954</td>\n",
       "      <td>0.246490</td>\n",
       "      <td>-0.150120</td>\n",
       "    </tr>\n",
       "    <tr>\n",
       "      <th>5</th>\n",
       "      <td>3.592299</td>\n",
       "      <td>-0.189922</td>\n",
       "      <td>0.374612</td>\n",
       "    </tr>\n",
       "    <tr>\n",
       "      <th>6</th>\n",
       "      <td>-2.057860</td>\n",
       "      <td>0.240429</td>\n",
       "      <td>0.022484</td>\n",
       "    </tr>\n",
       "    <tr>\n",
       "      <th>7</th>\n",
       "      <td>-1.237224</td>\n",
       "      <td>-0.301688</td>\n",
       "      <td>-0.179401</td>\n",
       "    </tr>\n",
       "    <tr>\n",
       "      <th>8</th>\n",
       "      <td>0.905540</td>\n",
       "      <td>1.111021</td>\n",
       "      <td>-0.096285</td>\n",
       "    </tr>\n",
       "    <tr>\n",
       "      <th>9</th>\n",
       "      <td>0.390385</td>\n",
       "      <td>-0.419636</td>\n",
       "      <td>0.008962</td>\n",
       "    </tr>\n",
       "    <tr>\n",
       "      <th>10</th>\n",
       "      <td>0.550183</td>\n",
       "      <td>-0.265475</td>\n",
       "      <td>-0.544728</td>\n",
       "    </tr>\n",
       "    <tr>\n",
       "      <th>11</th>\n",
       "      <td>-1.569269</td>\n",
       "      <td>-0.110181</td>\n",
       "      <td>-0.539493</td>\n",
       "    </tr>\n",
       "    <tr>\n",
       "      <th>12</th>\n",
       "      <td>-0.253468</td>\n",
       "      <td>-0.675818</td>\n",
       "      <td>0.440423</td>\n",
       "    </tr>\n",
       "    <tr>\n",
       "      <th>13</th>\n",
       "      <td>1.592373</td>\n",
       "      <td>-0.321963</td>\n",
       "      <td>-0.396356</td>\n",
       "    </tr>\n",
       "    <tr>\n",
       "      <th>14</th>\n",
       "      <td>-1.516604</td>\n",
       "      <td>0.217947</td>\n",
       "      <td>0.468024</td>\n",
       "    </tr>\n",
       "  </tbody>\n",
       "</table>\n",
       "</div>"
      ],
      "text/plain": [
       "         PC1       PC2       PC3\n",
       "0   2.015343  0.428549  0.192902\n",
       "1  -1.580909 -0.007335  0.600040\n",
       "2   1.332458  0.216530 -0.230635\n",
       "3   0.057707 -0.168948  0.029569\n",
       "4  -2.220954  0.246490 -0.150120\n",
       "5   3.592299 -0.189922  0.374612\n",
       "6  -2.057860  0.240429  0.022484\n",
       "7  -1.237224 -0.301688 -0.179401\n",
       "8   0.905540  1.111021 -0.096285\n",
       "9   0.390385 -0.419636  0.008962\n",
       "10  0.550183 -0.265475 -0.544728\n",
       "11 -1.569269 -0.110181 -0.539493\n",
       "12 -0.253468 -0.675818  0.440423\n",
       "13  1.592373 -0.321963 -0.396356\n",
       "14 -1.516604  0.217947  0.468024"
      ]
     },
     "execution_count": 68,
     "metadata": {},
     "output_type": "execute_result"
    }
   ],
   "source": [
    "pca = PCA(n_components=3)\n",
    "pcs = pca.fit_transform(data_s)\n",
    "pcs = pd.DataFrame(pcs,columns=pcs_data.columns)\n",
    "pcs"
   ]
  },
  {
   "cell_type": "code",
   "execution_count": 69,
   "id": "d4f0ab44",
   "metadata": {},
   "outputs": [
    {
     "data": {
      "text/html": [
       "<div>\n",
       "<style scoped>\n",
       "    .dataframe tbody tr th:only-of-type {\n",
       "        vertical-align: middle;\n",
       "    }\n",
       "\n",
       "    .dataframe tbody tr th {\n",
       "        vertical-align: top;\n",
       "    }\n",
       "\n",
       "    .dataframe thead th {\n",
       "        text-align: right;\n",
       "    }\n",
       "</style>\n",
       "<table border=\"1\" class=\"dataframe\">\n",
       "  <thead>\n",
       "    <tr style=\"text-align: right;\">\n",
       "      <th></th>\n",
       "      <th>PC1</th>\n",
       "      <th>PC2</th>\n",
       "      <th>PC3</th>\n",
       "    </tr>\n",
       "  </thead>\n",
       "  <tbody>\n",
       "    <tr>\n",
       "      <th>0</th>\n",
       "      <td>-2.015343</td>\n",
       "      <td>-0.428549</td>\n",
       "      <td>-0.192902</td>\n",
       "    </tr>\n",
       "    <tr>\n",
       "      <th>1</th>\n",
       "      <td>1.580909</td>\n",
       "      <td>0.007335</td>\n",
       "      <td>-0.600040</td>\n",
       "    </tr>\n",
       "    <tr>\n",
       "      <th>2</th>\n",
       "      <td>-1.332458</td>\n",
       "      <td>-0.216530</td>\n",
       "      <td>0.230635</td>\n",
       "    </tr>\n",
       "    <tr>\n",
       "      <th>3</th>\n",
       "      <td>-0.057707</td>\n",
       "      <td>0.168948</td>\n",
       "      <td>-0.029569</td>\n",
       "    </tr>\n",
       "    <tr>\n",
       "      <th>4</th>\n",
       "      <td>2.220954</td>\n",
       "      <td>-0.246490</td>\n",
       "      <td>0.150120</td>\n",
       "    </tr>\n",
       "    <tr>\n",
       "      <th>5</th>\n",
       "      <td>-3.592299</td>\n",
       "      <td>0.189922</td>\n",
       "      <td>-0.374612</td>\n",
       "    </tr>\n",
       "    <tr>\n",
       "      <th>6</th>\n",
       "      <td>2.057860</td>\n",
       "      <td>-0.240429</td>\n",
       "      <td>-0.022484</td>\n",
       "    </tr>\n",
       "    <tr>\n",
       "      <th>7</th>\n",
       "      <td>1.237224</td>\n",
       "      <td>0.301688</td>\n",
       "      <td>0.179401</td>\n",
       "    </tr>\n",
       "    <tr>\n",
       "      <th>8</th>\n",
       "      <td>-0.905540</td>\n",
       "      <td>-1.111021</td>\n",
       "      <td>0.096285</td>\n",
       "    </tr>\n",
       "    <tr>\n",
       "      <th>9</th>\n",
       "      <td>-0.390385</td>\n",
       "      <td>0.419636</td>\n",
       "      <td>-0.008962</td>\n",
       "    </tr>\n",
       "    <tr>\n",
       "      <th>10</th>\n",
       "      <td>-0.550183</td>\n",
       "      <td>0.265475</td>\n",
       "      <td>0.544728</td>\n",
       "    </tr>\n",
       "    <tr>\n",
       "      <th>11</th>\n",
       "      <td>1.569269</td>\n",
       "      <td>0.110181</td>\n",
       "      <td>0.539493</td>\n",
       "    </tr>\n",
       "    <tr>\n",
       "      <th>12</th>\n",
       "      <td>0.253468</td>\n",
       "      <td>0.675818</td>\n",
       "      <td>-0.440423</td>\n",
       "    </tr>\n",
       "    <tr>\n",
       "      <th>13</th>\n",
       "      <td>-1.592373</td>\n",
       "      <td>0.321963</td>\n",
       "      <td>0.396356</td>\n",
       "    </tr>\n",
       "    <tr>\n",
       "      <th>14</th>\n",
       "      <td>1.516604</td>\n",
       "      <td>-0.217947</td>\n",
       "      <td>-0.468024</td>\n",
       "    </tr>\n",
       "  </tbody>\n",
       "</table>\n",
       "</div>"
      ],
      "text/plain": [
       "         PC1       PC2       PC3\n",
       "0  -2.015343 -0.428549 -0.192902\n",
       "1   1.580909  0.007335 -0.600040\n",
       "2  -1.332458 -0.216530  0.230635\n",
       "3  -0.057707  0.168948 -0.029569\n",
       "4   2.220954 -0.246490  0.150120\n",
       "5  -3.592299  0.189922 -0.374612\n",
       "6   2.057860 -0.240429 -0.022484\n",
       "7   1.237224  0.301688  0.179401\n",
       "8  -0.905540 -1.111021  0.096285\n",
       "9  -0.390385  0.419636 -0.008962\n",
       "10 -0.550183  0.265475  0.544728\n",
       "11  1.569269  0.110181  0.539493\n",
       "12  0.253468  0.675818 -0.440423\n",
       "13 -1.592373  0.321963  0.396356\n",
       "14  1.516604 -0.217947 -0.468024"
      ]
     },
     "execution_count": 69,
     "metadata": {},
     "output_type": "execute_result"
    }
   ],
   "source": [
    "pcs_data"
   ]
  },
  {
   "cell_type": "code",
   "execution_count": 70,
   "id": "d705a271",
   "metadata": {},
   "outputs": [
    {
     "data": {
      "text/plain": [
       "array([2.89857911, 0.18612551, 0.1295811 ])"
      ]
     },
     "execution_count": 70,
     "metadata": {},
     "output_type": "execute_result"
    }
   ],
   "source": [
    "# Eigen Values \n",
    "pca.explained_variance_"
   ]
  },
  {
   "cell_type": "code",
   "execution_count": 71,
   "id": "5cff0cc6",
   "metadata": {},
   "outputs": [
    {
     "data": {
      "text/plain": [
       "array([[-0.58317464,  0.57378162,  0.57504956],\n",
       "       [ 0.04823714,  0.73109696, -0.68056625],\n",
       "       [ 0.81091338,  0.36915023,  0.45403479]])"
      ]
     },
     "execution_count": 71,
     "metadata": {},
     "output_type": "execute_result"
    }
   ],
   "source": [
    "# Eigen Vectors\n",
    "pca.components_"
   ]
  },
  {
   "cell_type": "code",
   "execution_count": 72,
   "id": "4752b4f3",
   "metadata": {},
   "outputs": [
    {
     "data": {
      "text/plain": [
       "array([[ 0.58317464, -0.81091338, -0.04823714],\n",
       "       [-0.57378162, -0.36915023, -0.73109696],\n",
       "       [-0.57504956, -0.45403479,  0.68056625]])"
      ]
     },
     "execution_count": 72,
     "metadata": {},
     "output_type": "execute_result"
    }
   ],
   "source": [
    "eig_vec"
   ]
  },
  {
   "cell_type": "code",
   "execution_count": 73,
   "id": "1cc9897e",
   "metadata": {},
   "outputs": [
    {
     "data": {
      "text/plain": [
       "array([2.89857911, 0.1295811 , 0.18612551])"
      ]
     },
     "execution_count": 73,
     "metadata": {},
     "output_type": "execute_result"
    }
   ],
   "source": [
    "eig_val"
   ]
  },
  {
   "cell_type": "code",
   "execution_count": 74,
   "id": "a73dc1fb",
   "metadata": {},
   "outputs": [
    {
     "data": {
      "text/plain": [
       "array([0.90178017, 0.05790571, 0.04031412])"
      ]
     },
     "execution_count": 74,
     "metadata": {},
     "output_type": "execute_result"
    }
   ],
   "source": [
    "# explained variance ratio\n",
    "pca.explained_variance_ratio_"
   ]
  },
  {
   "cell_type": "code",
   "execution_count": 75,
   "id": "f4ec53fa",
   "metadata": {},
   "outputs": [
    {
     "data": {
      "text/plain": [
       "array([0.90178017, 0.95968588, 1.        ])"
      ]
     },
     "execution_count": 75,
     "metadata": {},
     "output_type": "execute_result"
    }
   ],
   "source": [
    "np.cumsum(pca.explained_variance_ratio_)  # for total percentage variance "
   ]
  },
  {
   "cell_type": "code",
   "execution_count": null,
   "id": "ff1524fd",
   "metadata": {},
   "outputs": [],
   "source": []
  },
  {
   "cell_type": "markdown",
   "id": "54222cd8",
   "metadata": {},
   "source": [
    "## LDA"
   ]
  },
  {
   "cell_type": "code",
   "execution_count": 76,
   "id": "72e84f05",
   "metadata": {},
   "outputs": [],
   "source": [
    "iris= sns.load_dataset('iris')"
   ]
  },
  {
   "cell_type": "code",
   "execution_count": 77,
   "id": "0a0eaa3f",
   "metadata": {},
   "outputs": [],
   "source": [
    "from sklearn.preprocessing import StandardScaler,LabelEncoder"
   ]
  },
  {
   "cell_type": "code",
   "execution_count": 78,
   "id": "dcd7526b",
   "metadata": {},
   "outputs": [],
   "source": [
    "le = LabelEncoder()\n",
    "iris['species'] = le.fit_transform(iris['species'])"
   ]
  },
  {
   "cell_type": "code",
   "execution_count": 79,
   "id": "5a70efbb",
   "metadata": {},
   "outputs": [],
   "source": [
    "for i in iris.columns:\n",
    "    if i != 'species':\n",
    "        iris[i] = sc.fit_transform(pd.DataFrame(iris[i]))"
   ]
  },
  {
   "cell_type": "code",
   "execution_count": 81,
   "id": "0bf0d5b2",
   "metadata": {},
   "outputs": [],
   "source": [
    "from sklearn.discriminant_analysis import LinearDiscriminantAnalysis"
   ]
  },
  {
   "cell_type": "code",
   "execution_count": 83,
   "id": "9fc6a070",
   "metadata": {},
   "outputs": [],
   "source": [
    "lda = LinearDiscriminantAnalysis(solver='eigen')\n",
    "# LDA returns components min(classes-1 , no. of features)\n",
    "lds = lda.fit_transform(X = iris.iloc[:,:4],y = iris['species'])"
   ]
  },
  {
   "cell_type": "code",
   "execution_count": 84,
   "id": "dc02fd13",
   "metadata": {},
   "outputs": [],
   "source": [
    "lds = pd.DataFrame(lds,columns=['LD1','LD2'])"
   ]
  },
  {
   "cell_type": "code",
   "execution_count": 85,
   "id": "2e53315c",
   "metadata": {},
   "outputs": [
    {
     "data": {
      "text/html": [
       "<div>\n",
       "<style scoped>\n",
       "    .dataframe tbody tr th:only-of-type {\n",
       "        vertical-align: middle;\n",
       "    }\n",
       "\n",
       "    .dataframe tbody tr th {\n",
       "        vertical-align: top;\n",
       "    }\n",
       "\n",
       "    .dataframe thead th {\n",
       "        text-align: right;\n",
       "    }\n",
       "</style>\n",
       "<table border=\"1\" class=\"dataframe\">\n",
       "  <thead>\n",
       "    <tr style=\"text-align: right;\">\n",
       "      <th></th>\n",
       "      <th>LD1</th>\n",
       "      <th>LD2</th>\n",
       "    </tr>\n",
       "  </thead>\n",
       "  <tbody>\n",
       "    <tr>\n",
       "      <th>0</th>\n",
       "      <td>8.143648</td>\n",
       "      <td>0.303471</td>\n",
       "    </tr>\n",
       "    <tr>\n",
       "      <th>1</th>\n",
       "      <td>7.201062</td>\n",
       "      <td>-0.794647</td>\n",
       "    </tr>\n",
       "    <tr>\n",
       "      <th>2</th>\n",
       "      <td>7.565869</td>\n",
       "      <td>-0.268079</td>\n",
       "    </tr>\n",
       "    <tr>\n",
       "      <th>3</th>\n",
       "      <td>6.882372</td>\n",
       "      <td>-0.677440</td>\n",
       "    </tr>\n",
       "    <tr>\n",
       "      <th>4</th>\n",
       "      <td>8.214873</td>\n",
       "      <td>0.519686</td>\n",
       "    </tr>\n",
       "    <tr>\n",
       "      <th>...</th>\n",
       "      <td>...</td>\n",
       "      <td>...</td>\n",
       "    </tr>\n",
       "    <tr>\n",
       "      <th>145</th>\n",
       "      <td>-5.702315</td>\n",
       "      <td>1.694750</td>\n",
       "    </tr>\n",
       "    <tr>\n",
       "      <th>146</th>\n",
       "      <td>-5.232150</td>\n",
       "      <td>-0.367165</td>\n",
       "    </tr>\n",
       "    <tr>\n",
       "      <th>147</th>\n",
       "      <td>-5.018176</td>\n",
       "      <td>0.829477</td>\n",
       "    </tr>\n",
       "    <tr>\n",
       "      <th>148</th>\n",
       "      <td>-5.945905</td>\n",
       "      <td>2.368899</td>\n",
       "    </tr>\n",
       "    <tr>\n",
       "      <th>149</th>\n",
       "      <td>-4.730700</td>\n",
       "      <td>0.335405</td>\n",
       "    </tr>\n",
       "  </tbody>\n",
       "</table>\n",
       "<p>150 rows × 2 columns</p>\n",
       "</div>"
      ],
      "text/plain": [
       "          LD1       LD2\n",
       "0    8.143648  0.303471\n",
       "1    7.201062 -0.794647\n",
       "2    7.565869 -0.268079\n",
       "3    6.882372 -0.677440\n",
       "4    8.214873  0.519686\n",
       "..        ...       ...\n",
       "145 -5.702315  1.694750\n",
       "146 -5.232150 -0.367165\n",
       "147 -5.018176  0.829477\n",
       "148 -5.945905  2.368899\n",
       "149 -4.730700  0.335405\n",
       "\n",
       "[150 rows x 2 columns]"
      ]
     },
     "execution_count": 85,
     "metadata": {},
     "output_type": "execute_result"
    }
   ],
   "source": [
    "lds"
   ]
  },
  {
   "cell_type": "code",
   "execution_count": 86,
   "id": "5d03f39f",
   "metadata": {},
   "outputs": [
    {
     "data": {
      "text/plain": [
       "array([0.9912126, 0.0087874])"
      ]
     },
     "execution_count": 86,
     "metadata": {},
     "output_type": "execute_result"
    }
   ],
   "source": [
    "lda.explained_variance_ratio_"
   ]
  },
  {
   "cell_type": "code",
   "execution_count": 87,
   "id": "7eac3b9d",
   "metadata": {},
   "outputs": [
    {
     "data": {
      "text/plain": [
       "array([[ 0.69143572,  0.02009348, -2.64442999, -0.25493982],\n",
       "       [ 0.67335953,  0.94983812,  0.98873139, -0.63854513],\n",
       "       [-3.91213972, -1.65627234,  4.30903908, -3.17779997],\n",
       "       [-2.15676253,  2.17880821, -1.67074795,  3.07659459]])"
      ]
     },
     "execution_count": 87,
     "metadata": {},
     "output_type": "execute_result"
    }
   ],
   "source": [
    "lda.scalings_"
   ]
  },
  {
   "cell_type": "code",
   "execution_count": 90,
   "id": "c4fe3729",
   "metadata": {},
   "outputs": [
    {
     "data": {
      "image/png": "[encoded data removed]",
      "text/plain": [
       "<Figure size 800x550 with 1 Axes>"
      ]
     },
     "metadata": {},
     "output_type": "display_data"
    }
   ],
   "source": [
    "sns.scatterplot(x=lds['LD1'],y=lds['LD2'],hue=iris['species'],palette='rainbow');"
   ]
  },
  {
   "cell_type": "code",
   "execution_count": 91,
   "id": "42c9d479",
   "metadata": {},
   "outputs": [
    {
     "data": {
      "image/png": "[encoded data removed]",
      "text/plain": [
       "<Figure size 800x550 with 1 Axes>"
      ]
     },
     "metadata": {},
     "output_type": "display_data"
    }
   ],
   "source": [
    "sns.kdeplot(x=lds['LD1'],y=lds['LD2'],hue=iris['species'],palette='rainbow');"
   ]
  },
  {
   "cell_type": "code",
   "execution_count": 93,
   "id": "ff61fca1",
   "metadata": {},
   "outputs": [
    {
     "data": {
      "image/png": "[encoded data removed]",
      "text/plain": [
       "<Figure size 567.361x500 with 1 Axes>"
      ]
     },
     "metadata": {},
     "output_type": "display_data"
    }
   ],
   "source": [
    "sns.displot(x=lds['LD1'],hue=iris['species'],palette='rainbow',kind='kde');"
   ]
  },
  {
   "cell_type": "code",
   "execution_count": null,
   "id": "6d115c9b",
   "metadata": {},
   "outputs": [],
   "source": []
  }
 ],
 "metadata": {
  "kernelspec": {
   "display_name": "Python 3 (ipykernel)",
   "language": "python",
   "name": "python3"
  },
  "language_info": {
   "codemirror_mode": {
    "name": "ipython",
    "version": 3
   },
   "file_extension": ".py",
   "mimetype": "text/x-python",
   "name": "python",
   "nbconvert_exporter": "python",
   "pygments_lexer": "ipython3",
   "version": "3.11.3"
  }
 },
 "nbformat": 4,
 "nbformat_minor": 5
}
